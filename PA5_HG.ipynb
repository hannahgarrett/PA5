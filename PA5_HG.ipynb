{
 "cells": [
  {
   "cell_type": "markdown",
   "id": "28bff481",
   "metadata": {},
   "source": []
  },
  {
   "cell_type": "code",
   "execution_count": 4,
   "id": "1be7e6b6",
   "metadata": {},
   "outputs": [
    {
     "name": "stdout",
     "output_type": "stream",
     "text": [
      "Enter the length of side A: 5\n",
      "Enter the length of side B: 5\n",
      "Enter teh length of side C: 5\n",
      "The perimeter of the triangle is  15 linear units\n",
      "The are of the triangle is  10.825317547305483 square units\n"
     ]
    }
   ],
   "source": [
    "def calcPerimeter(a,b,c):\n",
    "    return a+b+c\n",
    "\n",
    "def calcArea(a,b,c):\n",
    "    return (s*(s-a)*(s-b)*(s-c))**0.5\n",
    "\n",
    "a=int(input(\"Enter the length of side A: \"))\n",
    "b=int(input(\"Enter the length of side B: \"))\n",
    "c=int(input(\"Enter teh length of side C: \"))\n",
    "s=(a+b+c)/2\n",
    "print(\"The perimeter of the triangle is \", calcPerimeter(a,b,c), \"linear units\")\n",
    "print(\"The are of the triangle is \", calcArea(a,b,c), \"square units\")"
   ]
  },
  {
   "cell_type": "code",
   "execution_count": 47,
   "id": "3e663361",
   "metadata": {},
   "outputs": [
    {
     "name": "stdout",
     "output_type": "stream",
     "text": [
      "Guess a number: 50\n",
      "Too low, guess again\n",
      "Guess a number: 900\n",
      "Too high, guess again\n",
      "Guess a number: 500\n",
      "Too high, guess again\n",
      "Guess a number: 200\n",
      "Too low, guess again\n",
      "Guess a number: 300\n",
      "Too low, guess again\n",
      "Guess a number: 400\n",
      "Too low, guess again\n",
      "Guess a number: 450\n",
      "Too high, guess again\n",
      "Guess a number: 437\n",
      "Too high, guess again\n",
      "Guess a number: 420\n",
      "Too high, guess again\n",
      "Guess a number: 410\n",
      "Too low, guess again\n",
      "Guess a number: 415\n",
      "Too high, guess again\n",
      "Guess a number: 414\n",
      "Too high, guess again\n",
      "Guess a number: 413\n",
      "You guessed correctly\n"
     ]
    }
   ],
   "source": [
    "import random\n",
    "number = random.randint(1, 1000)\n",
    "guess = 0\n",
    "while guess != number:\n",
    "    guess = int(input('Guess a number: '))\n",
    "    attempts += 1\n",
    "    if guess == number:\n",
    "        print ('You guessed correctly')\n",
    "        break\n",
    "    elif guess < number:\n",
    "        print ('Too low, guess again')\n",
    "    else:\n",
    "        print ('Too high, guess again')"
   ]
  },
  {
   "cell_type": "code",
   "execution_count": 42,
   "id": "b64ba8aa",
   "metadata": {},
   "outputs": [
    {
     "name": "stdout",
     "output_type": "stream",
     "text": [
      "Enter number of days:5\n",
      "The mean temperature for the past 5 days is  81.6 degrees F\n"
     ]
    }
   ],
   "source": [
    "temp=[34,56,54,43,67,78,76]\n",
    "def meanTemp(temp):\n",
    "    return sum(temp)/x\n",
    "x=int(input(\"Enter number of days:\"))\n",
    "print(\"The mean temperature for the past\", x , \"days is \", meanTemp(temp), \"degrees F\")"
   ]
  },
  {
   "cell_type": "code",
   "execution_count": null,
   "id": "3fb9af20",
   "metadata": {},
   "outputs": [],
   "source": []
  }
 ],
 "metadata": {
  "kernelspec": {
   "display_name": "Python 3 (ipykernel)",
   "language": "python",
   "name": "python3"
  },
  "language_info": {
   "codemirror_mode": {
    "name": "ipython",
    "version": 3
   },
   "file_extension": ".py",
   "mimetype": "text/x-python",
   "name": "python",
   "nbconvert_exporter": "python",
   "pygments_lexer": "ipython3",
   "version": "3.9.12"
  }
 },
 "nbformat": 4,
 "nbformat_minor": 5
}
